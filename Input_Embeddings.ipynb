{
  "nbformat": 4,
  "nbformat_minor": 0,
  "metadata": {
    "colab": {
      "provenance": []
    },
    "kernelspec": {
      "name": "python3",
      "display_name": "Python 3"
    },
    "language_info": {
      "name": "python"
    },
    "widgets": {
      "application/vnd.jupyter.widget-state+json": {
        "4773b210c8684ac9b0338964610d3ba0": {
          "model_module": "@jupyter-widgets/controls",
          "model_name": "HBoxModel",
          "model_module_version": "1.5.0",
          "state": {
            "_dom_classes": [],
            "_model_module": "@jupyter-widgets/controls",
            "_model_module_version": "1.5.0",
            "_model_name": "HBoxModel",
            "_view_count": null,
            "_view_module": "@jupyter-widgets/controls",
            "_view_module_version": "1.5.0",
            "_view_name": "HBoxView",
            "box_style": "",
            "children": [
              "IPY_MODEL_abd41b6b310b41edaea2b21d0987a230",
              "IPY_MODEL_1fb8d703866d4d959152c19fffdecbf7",
              "IPY_MODEL_1f705649494241959fe9804aac138f07"
            ],
            "layout": "IPY_MODEL_d6b9f64314044c12b65f4dc0d8ef485b"
          }
        },
        "abd41b6b310b41edaea2b21d0987a230": {
          "model_module": "@jupyter-widgets/controls",
          "model_name": "HTMLModel",
          "model_module_version": "1.5.0",
          "state": {
            "_dom_classes": [],
            "_model_module": "@jupyter-widgets/controls",
            "_model_module_version": "1.5.0",
            "_model_name": "HTMLModel",
            "_view_count": null,
            "_view_module": "@jupyter-widgets/controls",
            "_view_module_version": "1.5.0",
            "_view_name": "HTMLView",
            "description": "",
            "description_tooltip": null,
            "layout": "IPY_MODEL_5a9a42f143fc4d0ca4779c70b7ac7f6d",
            "placeholder": "​",
            "style": "IPY_MODEL_32447d17b6e54d6b9854162477af578c",
            "value": "Loading checkpoint shards: 100%"
          }
        },
        "1fb8d703866d4d959152c19fffdecbf7": {
          "model_module": "@jupyter-widgets/controls",
          "model_name": "FloatProgressModel",
          "model_module_version": "1.5.0",
          "state": {
            "_dom_classes": [],
            "_model_module": "@jupyter-widgets/controls",
            "_model_module_version": "1.5.0",
            "_model_name": "FloatProgressModel",
            "_view_count": null,
            "_view_module": "@jupyter-widgets/controls",
            "_view_module_version": "1.5.0",
            "_view_name": "ProgressView",
            "bar_style": "success",
            "description": "",
            "description_tooltip": null,
            "layout": "IPY_MODEL_25556e5c950f4bcebdbcee1212d94dcb",
            "max": 2,
            "min": 0,
            "orientation": "horizontal",
            "style": "IPY_MODEL_a6b08bcbd0304e1080e453ce8ea97f9f",
            "value": 2
          }
        },
        "1f705649494241959fe9804aac138f07": {
          "model_module": "@jupyter-widgets/controls",
          "model_name": "HTMLModel",
          "model_module_version": "1.5.0",
          "state": {
            "_dom_classes": [],
            "_model_module": "@jupyter-widgets/controls",
            "_model_module_version": "1.5.0",
            "_model_name": "HTMLModel",
            "_view_count": null,
            "_view_module": "@jupyter-widgets/controls",
            "_view_module_version": "1.5.0",
            "_view_name": "HTMLView",
            "description": "",
            "description_tooltip": null,
            "layout": "IPY_MODEL_fae42008473f42cbaabca35759304a28",
            "placeholder": "​",
            "style": "IPY_MODEL_6adbaee105ce4aa2b261a9de7b99d7df",
            "value": " 2/2 [00:27&lt;00:00, 11.39s/it]"
          }
        },
        "d6b9f64314044c12b65f4dc0d8ef485b": {
          "model_module": "@jupyter-widgets/base",
          "model_name": "LayoutModel",
          "model_module_version": "1.2.0",
          "state": {
            "_model_module": "@jupyter-widgets/base",
            "_model_module_version": "1.2.0",
            "_model_name": "LayoutModel",
            "_view_count": null,
            "_view_module": "@jupyter-widgets/base",
            "_view_module_version": "1.2.0",
            "_view_name": "LayoutView",
            "align_content": null,
            "align_items": null,
            "align_self": null,
            "border": null,
            "bottom": null,
            "display": null,
            "flex": null,
            "flex_flow": null,
            "grid_area": null,
            "grid_auto_columns": null,
            "grid_auto_flow": null,
            "grid_auto_rows": null,
            "grid_column": null,
            "grid_gap": null,
            "grid_row": null,
            "grid_template_areas": null,
            "grid_template_columns": null,
            "grid_template_rows": null,
            "height": null,
            "justify_content": null,
            "justify_items": null,
            "left": null,
            "margin": null,
            "max_height": null,
            "max_width": null,
            "min_height": null,
            "min_width": null,
            "object_fit": null,
            "object_position": null,
            "order": null,
            "overflow": null,
            "overflow_x": null,
            "overflow_y": null,
            "padding": null,
            "right": null,
            "top": null,
            "visibility": null,
            "width": null
          }
        },
        "5a9a42f143fc4d0ca4779c70b7ac7f6d": {
          "model_module": "@jupyter-widgets/base",
          "model_name": "LayoutModel",
          "model_module_version": "1.2.0",
          "state": {
            "_model_module": "@jupyter-widgets/base",
            "_model_module_version": "1.2.0",
            "_model_name": "LayoutModel",
            "_view_count": null,
            "_view_module": "@jupyter-widgets/base",
            "_view_module_version": "1.2.0",
            "_view_name": "LayoutView",
            "align_content": null,
            "align_items": null,
            "align_self": null,
            "border": null,
            "bottom": null,
            "display": null,
            "flex": null,
            "flex_flow": null,
            "grid_area": null,
            "grid_auto_columns": null,
            "grid_auto_flow": null,
            "grid_auto_rows": null,
            "grid_column": null,
            "grid_gap": null,
            "grid_row": null,
            "grid_template_areas": null,
            "grid_template_columns": null,
            "grid_template_rows": null,
            "height": null,
            "justify_content": null,
            "justify_items": null,
            "left": null,
            "margin": null,
            "max_height": null,
            "max_width": null,
            "min_height": null,
            "min_width": null,
            "object_fit": null,
            "object_position": null,
            "order": null,
            "overflow": null,
            "overflow_x": null,
            "overflow_y": null,
            "padding": null,
            "right": null,
            "top": null,
            "visibility": null,
            "width": null
          }
        },
        "32447d17b6e54d6b9854162477af578c": {
          "model_module": "@jupyter-widgets/controls",
          "model_name": "DescriptionStyleModel",
          "model_module_version": "1.5.0",
          "state": {
            "_model_module": "@jupyter-widgets/controls",
            "_model_module_version": "1.5.0",
            "_model_name": "DescriptionStyleModel",
            "_view_count": null,
            "_view_module": "@jupyter-widgets/base",
            "_view_module_version": "1.2.0",
            "_view_name": "StyleView",
            "description_width": ""
          }
        },
        "25556e5c950f4bcebdbcee1212d94dcb": {
          "model_module": "@jupyter-widgets/base",
          "model_name": "LayoutModel",
          "model_module_version": "1.2.0",
          "state": {
            "_model_module": "@jupyter-widgets/base",
            "_model_module_version": "1.2.0",
            "_model_name": "LayoutModel",
            "_view_count": null,
            "_view_module": "@jupyter-widgets/base",
            "_view_module_version": "1.2.0",
            "_view_name": "LayoutView",
            "align_content": null,
            "align_items": null,
            "align_self": null,
            "border": null,
            "bottom": null,
            "display": null,
            "flex": null,
            "flex_flow": null,
            "grid_area": null,
            "grid_auto_columns": null,
            "grid_auto_flow": null,
            "grid_auto_rows": null,
            "grid_column": null,
            "grid_gap": null,
            "grid_row": null,
            "grid_template_areas": null,
            "grid_template_columns": null,
            "grid_template_rows": null,
            "height": null,
            "justify_content": null,
            "justify_items": null,
            "left": null,
            "margin": null,
            "max_height": null,
            "max_width": null,
            "min_height": null,
            "min_width": null,
            "object_fit": null,
            "object_position": null,
            "order": null,
            "overflow": null,
            "overflow_x": null,
            "overflow_y": null,
            "padding": null,
            "right": null,
            "top": null,
            "visibility": null,
            "width": null
          }
        },
        "a6b08bcbd0304e1080e453ce8ea97f9f": {
          "model_module": "@jupyter-widgets/controls",
          "model_name": "ProgressStyleModel",
          "model_module_version": "1.5.0",
          "state": {
            "_model_module": "@jupyter-widgets/controls",
            "_model_module_version": "1.5.0",
            "_model_name": "ProgressStyleModel",
            "_view_count": null,
            "_view_module": "@jupyter-widgets/base",
            "_view_module_version": "1.2.0",
            "_view_name": "StyleView",
            "bar_color": null,
            "description_width": ""
          }
        },
        "fae42008473f42cbaabca35759304a28": {
          "model_module": "@jupyter-widgets/base",
          "model_name": "LayoutModel",
          "model_module_version": "1.2.0",
          "state": {
            "_model_module": "@jupyter-widgets/base",
            "_model_module_version": "1.2.0",
            "_model_name": "LayoutModel",
            "_view_count": null,
            "_view_module": "@jupyter-widgets/base",
            "_view_module_version": "1.2.0",
            "_view_name": "LayoutView",
            "align_content": null,
            "align_items": null,
            "align_self": null,
            "border": null,
            "bottom": null,
            "display": null,
            "flex": null,
            "flex_flow": null,
            "grid_area": null,
            "grid_auto_columns": null,
            "grid_auto_flow": null,
            "grid_auto_rows": null,
            "grid_column": null,
            "grid_gap": null,
            "grid_row": null,
            "grid_template_areas": null,
            "grid_template_columns": null,
            "grid_template_rows": null,
            "height": null,
            "justify_content": null,
            "justify_items": null,
            "left": null,
            "margin": null,
            "max_height": null,
            "max_width": null,
            "min_height": null,
            "min_width": null,
            "object_fit": null,
            "object_position": null,
            "order": null,
            "overflow": null,
            "overflow_x": null,
            "overflow_y": null,
            "padding": null,
            "right": null,
            "top": null,
            "visibility": null,
            "width": null
          }
        },
        "6adbaee105ce4aa2b261a9de7b99d7df": {
          "model_module": "@jupyter-widgets/controls",
          "model_name": "DescriptionStyleModel",
          "model_module_version": "1.5.0",
          "state": {
            "_model_module": "@jupyter-widgets/controls",
            "_model_module_version": "1.5.0",
            "_model_name": "DescriptionStyleModel",
            "_view_count": null,
            "_view_module": "@jupyter-widgets/base",
            "_view_module_version": "1.2.0",
            "_view_name": "StyleView",
            "description_width": ""
          }
        }
      }
    }
  },
  "cells": [
    {
      "cell_type": "code",
      "execution_count": 1,
      "metadata": {
        "colab": {
          "base_uri": "https://localhost:8080/",
          "height": 277,
          "referenced_widgets": [
            "4773b210c8684ac9b0338964610d3ba0",
            "abd41b6b310b41edaea2b21d0987a230",
            "1fb8d703866d4d959152c19fffdecbf7",
            "1f705649494241959fe9804aac138f07",
            "d6b9f64314044c12b65f4dc0d8ef485b",
            "5a9a42f143fc4d0ca4779c70b7ac7f6d",
            "32447d17b6e54d6b9854162477af578c",
            "25556e5c950f4bcebdbcee1212d94dcb",
            "a6b08bcbd0304e1080e453ce8ea97f9f",
            "fae42008473f42cbaabca35759304a28",
            "6adbaee105ce4aa2b261a9de7b99d7df"
          ]
        },
        "id": "20KBY2GqYNP7",
        "outputId": "e52fab1f-2f3e-47bf-9376-5e84e8c0a5c3"
      },
      "outputs": [
        {
          "output_type": "stream",
          "name": "stderr",
          "text": [
            "/usr/local/lib/python3.10/dist-packages/transformers/models/auto/auto_factory.py:466: FutureWarning: The `use_auth_token` argument is deprecated and will be removed in v5 of Transformers. Please use `token` instead.\n",
            "  warnings.warn(\n"
          ]
        },
        {
          "output_type": "display_data",
          "data": {
            "text/plain": [
              "Loading checkpoint shards:   0%|          | 0/2 [00:00<?, ?it/s]"
            ],
            "application/vnd.jupyter.widget-view+json": {
              "version_major": 2,
              "version_minor": 0,
              "model_id": "4773b210c8684ac9b0338964610d3ba0"
            }
          },
          "metadata": {}
        },
        {
          "output_type": "stream",
          "name": "stderr",
          "text": [
            "/usr/local/lib/python3.10/dist-packages/transformers/models/auto/tokenization_auto.py:720: FutureWarning: The `use_auth_token` argument is deprecated and will be removed in v5 of Transformers. Please use `token` instead.\n",
            "  warnings.warn(\n"
          ]
        },
        {
          "output_type": "stream",
          "name": "stdout",
          "text": [
            "Token IDs: [2, 2926, 1503, 603, 164476, 235341]\n",
            "Raw tokens: ['<bos>', 'My', ' name', ' is', ' Ajay', '!']\n",
            "Embeddings:  tensor([[[ 0.2486, -0.7862, -0.2441,  ..., -0.6646, -0.4929, -0.6996],\n",
            "         [ 0.6401,  1.4105,  0.4291,  ..., -0.2684,  0.0316, -1.2565],\n",
            "         [-1.2397,  1.6598, -0.9212,  ...,  0.1642, -0.9899, -1.1751],\n",
            "         [-0.8512,  0.2834, -2.4947,  ..., -0.1198,  1.3421, -1.1525],\n",
            "         [-1.3338,  0.8203, -1.4401,  ...,  0.3993, -0.3663, -1.0987],\n",
            "         [-1.3155,  0.2018, -0.4188,  ...,  0.2751, -0.3506, -0.5765]]])\n"
          ]
        }
      ],
      "source": [
        "from transformers import AutoModel, AutoTokenizer\n",
        "import torch\n",
        "\n",
        "model = AutoModel.from_pretrained(\"google/gemma-1.1-2b-it\", use_auth_token=\"<>\")\n",
        "tokenizer = AutoTokenizer.from_pretrained(\"google/gemma-1.1-2b-it\", use_auth_token=\"<>\")\n",
        "\n",
        "# Text to be tokenized\n",
        "text = \"My name is Ajay!\"\n",
        "\n",
        "# Encode text\n",
        "input_ids = tokenizer.encode(text, add_special_tokens=True)\n",
        "\n",
        "# Output the token IDs\n",
        "print(\"Token IDs:\", input_ids)\n",
        "\n",
        "# Convert token IDs back to raw tokens and output them\n",
        "raw_tokens = [tokenizer.decode([token_id]) for token_id in input_ids]\n",
        "print(\"Raw tokens:\", raw_tokens)\n",
        "\n",
        "# Convert list of IDs to a tensor\n",
        "input_ids_tensor = torch.tensor([input_ids])\n",
        "\n",
        "# Pass the input through the model\n",
        "with torch.no_grad():\n",
        "    outputs = model(input_ids_tensor)\n",
        "\n",
        "# Extract the embeddings\n",
        "embeddings = outputs.last_hidden_state\n",
        "\n",
        "# Print the embeddings\n",
        "print(\"Embeddings: \", embeddings)"
      ]
    },
    {
      "cell_type": "markdown",
      "source": [
        "Token IDs: [2, 2926, 1503, 603, 164476, 235341]\n",
        "\n",
        "Raw tokens: ['<bos>', 'My', ' name', ' is', ' Ajay', '!']\n",
        "\n",
        "Embeddings:  tensor([[[ 0.2486, -0.7862, -0.2441,  ..., -0.6646, -0.4929, -0.6996],\n",
        "         [ 0.6401,  1.4105,  0.4291,  ..., -0.2684,  0.0316, -1.2565],\n",
        "         [-1.2397,  1.6598, -0.9212,  ...,  0.1642, -0.9899, -1.1751],\n",
        "         [-0.8512,  0.2834, -2.4947,  ..., -0.1198,  1.3421, -1.1525],\n",
        "         [-1.3338,  0.8203, -1.4401,  ...,  0.3993, -0.3663, -1.0987],\n",
        "         [-1.3155,  0.2018, -0.4188,  ...,  0.2751, -0.3506, -0.5765]]])"
      ],
      "metadata": {
        "id": "jTy-Gtmm2c5f"
      }
    },
    {
      "cell_type": "code",
      "source": [],
      "metadata": {
        "id": "dtgfZUPnxpOP"
      },
      "execution_count": null,
      "outputs": []
    }
  ]
}